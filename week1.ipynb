{
  "nbformat": 4,
  "nbformat_minor": 0,
  "metadata": {
    "colab": {
      "name": "week1.ipynb",
      "provenance": [],
      "collapsed_sections": [],
      "toc_visible": true,
      "include_colab_link": true
    },
    "kernelspec": {
      "name": "python3",
      "display_name": "Python 3"
    },
    "language_info": {
      "name": "python"
    }
  },
  "cells": [
    {
      "cell_type": "markdown",
      "metadata": {
        "id": "view-in-github",
        "colab_type": "text"
      },
      "source": [
        "<a href=\"https://colab.research.google.com/github/Sophie-wang22/math-50/blob/main/week1.ipynb\" target=\"_parent\"><img src=\"https://colab.research.google.com/assets/colab-badge.svg\" alt=\"Open In Colab\"/></a>"
      ]
    },
    {
      "cell_type": "markdown",
      "metadata": {
        "id": "LXlZLFprkIz_"
      },
      "source": [
        "# Colab and Python"
      ]
    },
    {
      "cell_type": "markdown",
      "metadata": {
        "id": "mS7Y024TvWS-"
      },
      "source": [
        "hi everyone"
      ]
    },
    {
      "cell_type": "markdown",
      "metadata": {
        "id": "3zZqWKbTLGGt"
      },
      "source": [
        "We will be using colab notebooks in class and for homework assignments. "
      ]
    },
    {
      "cell_type": "code",
      "metadata": {
        "id": "JsV1YIZRX4K1",
        "colab": {
          "base_uri": "https://localhost:8080/"
        },
        "outputId": "bec0249c-0ee8-4878-a0bf-f4cd2ce9ae9f"
      },
      "source": [
        "string = \"hello world\"\n",
        "print(string)"
      ],
      "execution_count": null,
      "outputs": [
        {
          "output_type": "stream",
          "name": "stdout",
          "text": [
            "hello world\n"
          ]
        }
      ]
    },
    {
      "cell_type": "code",
      "metadata": {
        "colab": {
          "base_uri": "https://localhost:8080/"
        },
        "id": "L_7tFcqXX9_G",
        "outputId": "ff947fd3-7e47-4b0a-c07c-8baf1345d440"
      },
      "source": [
        "help(print)"
      ],
      "execution_count": null,
      "outputs": [
        {
          "output_type": "stream",
          "name": "stdout",
          "text": [
            "Help on built-in function print in module builtins:\n",
            "\n",
            "print(...)\n",
            "    print(value, ..., sep=' ', end='\\n', file=sys.stdout, flush=False)\n",
            "    \n",
            "    Prints the values to a stream, or to sys.stdout by default.\n",
            "    Optional keyword arguments:\n",
            "    file:  a file-like object (stream); defaults to the current sys.stdout.\n",
            "    sep:   string inserted between values, default a space.\n",
            "    end:   string appended after the last value, default a newline.\n",
            "    flush: whether to forcibly flush the stream.\n",
            "\n"
          ]
        }
      ]
    },
    {
      "cell_type": "code",
      "metadata": {
        "id": "8P3itlndLhO6",
        "colab": {
          "base_uri": "https://localhost:8080/"
        },
        "outputId": "6c55ff96-5d23-455c-b9d1-275acf86f769"
      },
      "source": [
        "# some math\n",
        "a = 10\n",
        "b = 6\n",
        "z = a + b\n",
        "print(z)"
      ],
      "execution_count": null,
      "outputs": [
        {
          "output_type": "stream",
          "name": "stdout",
          "text": [
            "16\n"
          ]
        }
      ]
    },
    {
      "cell_type": "code",
      "metadata": {
        "id": "iJGOGEofMkZF",
        "colab": {
          "base_uri": "https://localhost:8080/"
        },
        "outputId": "7cdf750b-5c00-4642-8a0d-39f6801bffc5"
      },
      "source": [
        "# lists\n",
        "A = [1,2,3,3,5]\n",
        "A"
      ],
      "execution_count": null,
      "outputs": [
        {
          "output_type": "execute_result",
          "data": {
            "text/plain": [
              "[1, 2, 3, 3, 5]"
            ]
          },
          "metadata": {},
          "execution_count": 7
        }
      ]
    },
    {
      "cell_type": "code",
      "metadata": {
        "id": "ttE6JCK-QV4k",
        "colab": {
          "base_uri": "https://localhost:8080/"
        },
        "outputId": "b54a9cef-0f60-472e-ccd8-2e888392ab38"
      },
      "source": [
        "# loops, if statements, making lists\n",
        "sum = 0\n",
        "for k in A:\n",
        "  print(k)\n",
        "  sum = sum+k\n",
        "print(sum)\n"
      ],
      "execution_count": null,
      "outputs": [
        {
          "output_type": "stream",
          "name": "stdout",
          "text": [
            "1\n",
            "2\n",
            "3\n",
            "3\n",
            "5\n",
            "14\n"
          ]
        }
      ]
    },
    {
      "cell_type": "code",
      "metadata": {
        "id": "KLJ5O3f6RC5L"
      },
      "source": [
        "# functions\n",
        "def my_sum(A):\n",
        "  sum = 0\n",
        "  for k in A:\n",
        "    sum = sum+k\n",
        "  return sum\n"
      ],
      "execution_count": null,
      "outputs": []
    },
    {
      "cell_type": "code",
      "metadata": {
        "colab": {
          "base_uri": "https://localhost:8080/"
        },
        "id": "rP3atQosztvT",
        "outputId": "df6dddf0-c415-4bd9-85dd-0eb540163f22"
      },
      "source": [
        "my_sum([1,1,1,2])"
      ],
      "execution_count": null,
      "outputs": [
        {
          "output_type": "execute_result",
          "data": {
            "text/plain": [
              "5"
            ]
          },
          "metadata": {},
          "execution_count": 12
        }
      ]
    },
    {
      "cell_type": "markdown",
      "metadata": {
        "id": "QMMRb6RrWEAK"
      },
      "source": [
        "## Importing packages"
      ]
    },
    {
      "cell_type": "code",
      "metadata": {
        "id": "ZmQKdFdNWIMw",
        "colab": {
          "base_uri": "https://localhost:8080/"
        },
        "outputId": "3081c95a-8be7-46d7-ee8c-d1036369566c"
      },
      "source": [
        "import pandas as pd\n",
        "import numpy as np\n",
        "import matplotlib.pyplot as plt\n",
        "import statsmodels.api as sm"
      ],
      "execution_count": null,
      "outputs": [
        {
          "output_type": "stream",
          "name": "stderr",
          "text": [
            "/usr/local/lib/python3.7/dist-packages/statsmodels/tools/_testing.py:19: FutureWarning: pandas.util.testing is deprecated. Use the functions in the public API at pandas.testing instead.\n",
            "  import pandas.util.testing as tm\n"
          ]
        }
      ]
    },
    {
      "cell_type": "markdown",
      "metadata": {
        "id": "iMfypjCLLpgP"
      },
      "source": [
        "## Loading some data in pandas"
      ]
    },
    {
      "cell_type": "code",
      "metadata": {
        "colab": {
          "base_uri": "https://localhost:8080/"
        },
        "id": "GwI8PSSnLDx7",
        "outputId": "6f8ae4c2-ddfb-49fb-dcc9-f15c2ff0058e"
      },
      "source": [
        "url = \"https://raw.githubusercontent.com/avehtari/ROS-Examples/master/ElectionsEconomy/data/hibbs.dat\"\n",
        "data = pd.read_csv(url,sep=\"\\s+\");\n",
        "print(data)"
      ],
      "execution_count": null,
      "outputs": [
        {
          "output_type": "stream",
          "name": "stdout",
          "text": [
            "    year  growth   vote inc_party_candidate other_candidate\n",
            "0   1952    2.40  44.60           Stevenson      Eisenhower\n",
            "1   1956    2.89  57.76          Eisenhower       Stevenson\n",
            "2   1960    0.85  49.91               Nixon         Kennedy\n",
            "3   1964    4.21  61.34             Johnson       Goldwater\n",
            "4   1968    3.02  49.60            Humphrey           Nixon\n",
            "5   1972    3.62  61.79               Nixon        McGovern\n",
            "6   1976    1.08  48.95                Ford          Carter\n",
            "7   1980   -0.39  44.70              Carter          Reagan\n",
            "8   1984    3.86  59.17              Reagan         Mondale\n",
            "9   1988    2.27  53.94           Bush, Sr.         Dukakis\n",
            "10  1992    0.38  46.55           Bush, Sr.         Clinton\n",
            "11  1996    1.04  54.74             Clinton            Dole\n",
            "12  2000    2.36  50.27                Gore       Bush, Jr.\n",
            "13  2004    1.72  51.24           Bush, Jr.           Kerry\n",
            "14  2008    0.10  46.32              McCain           Obama\n",
            "15  2012    0.95  52.00               Obama          Romney\n"
          ]
        }
      ]
    },
    {
      "cell_type": "code",
      "metadata": {
        "id": "kJgeQmWdYDOy",
        "colab": {
          "base_uri": "https://localhost:8080/"
        },
        "outputId": "4a4d69de-5441-40c3-9fbd-299fb63d0a71"
      },
      "source": [
        "# getting values, conditional indexing\n",
        "data.vote.values[0]\n",
        "\n",
        "data.vote.values[0:5]"
      ],
      "execution_count": null,
      "outputs": [
        {
          "output_type": "execute_result",
          "data": {
            "text/plain": [
              "array([44.6 , 57.76, 49.91, 61.34, 49.6 ])"
            ]
          },
          "metadata": {},
          "execution_count": 20
        }
      ]
    },
    {
      "cell_type": "code",
      "metadata": {
        "id": "UksDCRem0Ik-",
        "colab": {
          "base_uri": "https://localhost:8080/"
        },
        "outputId": "6e7afcc3-4374-432b-93d1-a2dc95f02b75"
      },
      "source": [
        "# taking means, variance\n",
        "np.std(data.vote)"
      ],
      "execution_count": null,
      "outputs": [
        {
          "output_type": "execute_result",
          "data": {
            "text/plain": [
              "5.430843626914698"
            ]
          },
          "metadata": {},
          "execution_count": 22
        }
      ]
    },
    {
      "cell_type": "markdown",
      "metadata": {
        "id": "qDwayeQN0ewX"
      },
      "source": [
        "## Plotting"
      ]
    },
    {
      "cell_type": "code",
      "metadata": {
        "id": "Jo_MtWb3WAZe",
        "colab": {
          "base_uri": "https://localhost:8080/",
          "height": 355
        },
        "outputId": "4ce1f3e7-92da-4874-ecbb-5a16fffcfe0e"
      },
      "source": [
        "# a simple point plot\n",
        "fig,ax = plt.subplots(figsize=(10,5),ncols=2)\n",
        "ax1 = ax[0]\n",
        "ax1.plot(data.growth,data.vote,\"o\")\n",
        "ax1.set_xlabel(\"growth\")\n",
        "ax1.set_ylabel(\"vote share\")"
      ],
      "execution_count": null,
      "outputs": [
        {
          "output_type": "execute_result",
          "data": {
            "text/plain": [
              "Text(0, 0.5, 'vote share')"
            ]
          },
          "metadata": {},
          "execution_count": 36
        },
        {
          "output_type": "display_data",
          "data": {
            "image/png": "[encoded data removed]",
            "text/plain": [
              "<Figure size 720x360 with 2 Axes>"
            ]
          },
          "metadata": {
            "needs_background": "light"
          }
        }
      ]
    },
    {
      "cell_type": "code",
      "metadata": {
        "id": "czFzXHUwYIgK",
        "colab": {
          "base_uri": "https://localhost:8080/",
          "height": 1000
        },
        "outputId": "2bc43685-0170-4078-8ec3-4b8142adfa4e"
      },
      "source": [
        "# a histogram\n",
        "fig,zzz = plt.subplots(figsize=(5,5))\n",
        "zzz.hist(data.growth)\n",
        "help(plt.subplots)"
      ],
      "execution_count": null,
      "outputs": [
        {
          "output_type": "stream",
          "name": "stdout",
          "text": [
            "Help on function subplots in module matplotlib.pyplot:\n",
            "\n",
            "subplots(nrows=1, ncols=1, sharex=False, sharey=False, squeeze=True, subplot_kw=None, gridspec_kw=None, **fig_kw)\n",
            "    Create a figure and a set of subplots.\n",
            "    \n",
            "    This utility wrapper makes it convenient to create common layouts of\n",
            "    subplots, including the enclosing figure object, in a single call.\n",
            "    \n",
            "    Parameters\n",
            "    ----------\n",
            "    nrows, ncols : int, optional, default: 1\n",
            "        Number of rows/columns of the subplot grid.\n",
            "    \n",
            "    sharex, sharey : bool or {'none', 'all', 'row', 'col'}, default: False\n",
            "        Controls sharing of properties among x (`sharex`) or y (`sharey`)\n",
            "        axes:\n",
            "    \n",
            "        - True or 'all': x- or y-axis will be shared among all subplots.\n",
            "        - False or 'none': each subplot x- or y-axis will be independent.\n",
            "        - 'row': each subplot row will share an x- or y-axis.\n",
            "        - 'col': each subplot column will share an x- or y-axis.\n",
            "    \n",
            "        When subplots have a shared x-axis along a column, only the x tick\n",
            "        labels of the bottom subplot are created. Similarly, when subplots\n",
            "        have a shared y-axis along a row, only the y tick labels of the first\n",
            "        column subplot are created. To later turn other subplots' ticklabels\n",
            "        on, use `~matplotlib.axes.Axes.tick_params`.\n",
            "    \n",
            "    squeeze : bool, optional, default: True\n",
            "        - If True, extra dimensions are squeezed out from the returned\n",
            "          array of `~matplotlib.axes.Axes`:\n",
            "    \n",
            "          - if only one subplot is constructed (nrows=ncols=1), the\n",
            "            resulting single Axes object is returned as a scalar.\n",
            "          - for Nx1 or 1xM subplots, the returned object is a 1D numpy\n",
            "            object array of Axes objects.\n",
            "          - for NxM, subplots with N>1 and M>1 are returned as a 2D array.\n",
            "    \n",
            "        - If False, no squeezing at all is done: the returned Axes object is\n",
            "          always a 2D array containing Axes instances, even if it ends up\n",
            "          being 1x1.\n",
            "    \n",
            "    num : int or str, optional, default: None\n",
            "        A `.pyplot.figure` keyword that sets the figure number or label.\n",
            "    \n",
            "    subplot_kw : dict, optional\n",
            "        Dict with keywords passed to the\n",
            "        `~matplotlib.figure.Figure.add_subplot` call used to create each\n",
            "        subplot.\n",
            "    \n",
            "    gridspec_kw : dict, optional\n",
            "        Dict with keywords passed to the `~matplotlib.gridspec.GridSpec`\n",
            "        constructor used to create the grid the subplots are placed on.\n",
            "    \n",
            "    **fig_kw\n",
            "        All additional keyword arguments are passed to the\n",
            "        `.pyplot.figure` call.\n",
            "    \n",
            "    Returns\n",
            "    -------\n",
            "    fig : `~.figure.Figure`\n",
            "    \n",
            "    ax : `.axes.Axes` object or array of Axes objects.\n",
            "        *ax* can be either a single `~matplotlib.axes.Axes` object or an\n",
            "        array of Axes objects if more than one subplot was created.  The\n",
            "        dimensions of the resulting array can be controlled with the squeeze\n",
            "        keyword, see above.\n",
            "    \n",
            "        Typical idioms for handling the return value are::\n",
            "    \n",
            "            # using the variable ax for single a Axes\n",
            "            fig, ax = plt.subplots()\n",
            "    \n",
            "            # using the variable axs for multiple Axes\n",
            "            fig, axs = plt.subplots(2, 2)\n",
            "    \n",
            "            # using tuple unpacking for multiple Axes\n",
            "            fig, (ax1, ax2) = plt.subplot(1, 2)\n",
            "            fig, ((ax1, ax2), (ax3, ax4)) = plt.subplot(2, 2)\n",
            "    \n",
            "        The names ``ax`` and pluralized ``axs`` are preferred over ``axes``\n",
            "        because for the latter it's not clear if it refers to a single\n",
            "        `~.axes.Axes` instance or a collection of these.\n",
            "    \n",
            "    Examples\n",
            "    --------\n",
            "    ::\n",
            "    \n",
            "        # First create some toy data:\n",
            "        x = np.linspace(0, 2*np.pi, 400)\n",
            "        y = np.sin(x**2)\n",
            "    \n",
            "        # Create just a figure and only one subplot\n",
            "        fig, ax = plt.subplots()\n",
            "        ax.plot(x, y)\n",
            "        ax.set_title('Simple plot')\n",
            "    \n",
            "        # Create two subplots and unpack the output array immediately\n",
            "        f, (ax1, ax2) = plt.subplots(1, 2, sharey=True)\n",
            "        ax1.plot(x, y)\n",
            "        ax1.set_title('Sharing Y axis')\n",
            "        ax2.scatter(x, y)\n",
            "    \n",
            "        # Create four polar axes and access them through the returned array\n",
            "        fig, axs = plt.subplots(2, 2, subplot_kw=dict(polar=True))\n",
            "        axs[0, 0].plot(x, y)\n",
            "        axs[1, 1].scatter(x, y)\n",
            "    \n",
            "        # Share a X axis with each column of subplots\n",
            "        plt.subplots(2, 2, sharex='col')\n",
            "    \n",
            "        # Share a Y axis with each row of subplots\n",
            "        plt.subplots(2, 2, sharey='row')\n",
            "    \n",
            "        # Share both X and Y axes with all subplots\n",
            "        plt.subplots(2, 2, sharex='all', sharey='all')\n",
            "    \n",
            "        # Note that this is the same as\n",
            "        plt.subplots(2, 2, sharex=True, sharey=True)\n",
            "    \n",
            "        # Create figure number 10 with a single subplot\n",
            "        # and clears it if it already exists.\n",
            "        fig, ax = plt.subplots(num=10, clear=True)\n",
            "    \n",
            "    See Also\n",
            "    --------\n",
            "    .pyplot.figure\n",
            "    .pyplot.subplot\n",
            "    .pyplot.axes\n",
            "    .Figure.subplots\n",
            "    .Figure.add_subplot\n",
            "\n"
          ]
        },
        {
          "output_type": "display_data",
          "data": {
            "image/png": "[encoded data removed]",
            "text/plain": [
              "<Figure size 360x360 with 1 Axes>"
            ]
          },
          "metadata": {
            "needs_background": "light"
          }
        }
      ]
    },
    {
      "cell_type": "markdown",
      "metadata": {
        "id": "n0ZOi0enYCKA"
      },
      "source": [
        "# Sampling from probability distributions"
      ]
    },
    {
      "cell_type": "markdown",
      "metadata": {
        "id": "0sF5_4C845la"
      },
      "source": [
        "Probability distributions are a way for us to model randomness in data. A probability distribution $p(x)$ tells us how likely $x$ is to fall in a given range. In regression models, we usually use the Normal distribution to model randomness, so it's important to understand how to work with simulated data from the the Normal distribution.\n",
        "\n",
        "Of course in reality, our data is never really sampled from a Normal distribution, and we will spend considerable time later in the course discussing when this is and is not a good approximation. \n",
        "\n",
        "For now, recall the **central limit theorem**: if we add up a bunch of random things, the distribution of their sum, rescalled by the number of samples, is approximately Normal. "
      ]
    },
    {
      "cell_type": "markdown",
      "metadata": {
        "id": "e1bxctIk8Udu"
      },
      "source": [
        "![Screenshot from 2021-09-13 16-54-57.png](data:image/png;base64,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)"
      ]
    },
    {
      "cell_type": "code",
      "metadata": {
        "colab": {
          "base_uri": "https://localhost:8080/"
        },
        "id": "VcZGlc-G8UA1",
        "outputId": "c69ebe46-1cf7-4ae2-dec6-bc22c2f4169c"
      },
      "source": [
        "np.random.normal(0,1)"
      ],
      "execution_count": null,
      "outputs": [
        {
          "output_type": "execute_result",
          "data": {
            "text/plain": [
              "0.2861562519646127"
            ]
          },
          "metadata": {},
          "execution_count": 49
        }
      ]
    },
    {
      "cell_type": "code",
      "metadata": {
        "id": "XwTY7v8ZYOss",
        "colab": {
          "base_uri": "https://localhost:8080/"
        },
        "outputId": "84983df2-7c8d-4516-a2bc-e1f8e66a0167"
      },
      "source": [
        "# generating normal random samples\n",
        "samples = np.random.normal(0,1.,10000)\n",
        "samples"
      ],
      "execution_count": null,
      "outputs": [
        {
          "output_type": "execute_result",
          "data": {
            "text/plain": [
              "array([-0.47063907, -0.18010609, -1.67177758, ..., -0.93668918,\n",
              "        0.57141672,  0.62055351])"
            ]
          },
          "metadata": {},
          "execution_count": 59
        }
      ]
    },
    {
      "cell_type": "code",
      "metadata": {
        "colab": {
          "base_uri": "https://localhost:8080/",
          "height": 374
        },
        "id": "igwQv6GC5_ba",
        "outputId": "7f6133fa-b5f9-4b97-937c-c67de1f85784"
      },
      "source": [
        "# we can check that the distribution is indeed a \"bell curve\"\n",
        "fig,ax = plt.subplots(figsize=(6,6))\n",
        "ax.hist(samples,100,density=True);"
      ],
      "execution_count": null,
      "outputs": [
        {
          "output_type": "display_data",
          "data": {
            "image/png": "[encoded data removed]",
            "text/plain": [
              "<Figure size 432x432 with 1 Axes>"
            ]
          },
          "metadata": {
            "needs_background": "light"
          }
        }
      ]
    },
    {
      "cell_type": "code",
      "metadata": {
        "id": "RkSXVqFBZEXo",
        "colab": {
          "base_uri": "https://localhost:8080/"
        },
        "outputId": "bafc6814-018b-4dc2-badf-8acdd14c73a8"
      },
      "source": [
        "# estimate the probability that a is less than some number\n",
        "len(samples[(samples>-1) & (samples<1)])/len(samples)"
      ],
      "execution_count": null,
      "outputs": [
        {
          "output_type": "execute_result",
          "data": {
            "text/plain": [
              "0.6801"
            ]
          },
          "metadata": {},
          "execution_count": 63
        }
      ]
    },
    {
      "cell_type": "code",
      "metadata": {
        "id": "0jL_wNwfGv5q",
        "colab": {
          "base_uri": "https://localhost:8080/"
        },
        "outputId": "df836951-f384-49fb-8e16-aa4cb4eed461"
      },
      "source": [
        "# mean and standard deviation\n",
        "np.std(samples)"
      ],
      "execution_count": null,
      "outputs": [
        {
          "output_type": "execute_result",
          "data": {
            "text/plain": [
              "1.0024062410373789"
            ]
          },
          "metadata": {},
          "execution_count": 65
        }
      ]
    },
    {
      "cell_type": "code",
      "metadata": {
        "id": "qe1yHNlOrG5Z"
      },
      "source": [
        "# adding and subtracting\n",
        "s1 = np.random.normal(50,10,10000)\n",
        "s2 = np.random.normal(51.,10,10000)"
      ],
      "execution_count": null,
      "outputs": []
    },
    {
      "cell_type": "code",
      "metadata": {
        "colab": {
          "base_uri": "https://localhost:8080/",
          "height": 374
        },
        "id": "90LVVjcL9aUk",
        "outputId": "0f0b71f0-1757-4b42-d074-1f1dcd6ad117"
      },
      "source": [
        "fig,ax = plt.subplots(figsize=(6,6))\n",
        "ax.hist(s1/s2,50,density=True);"
      ],
      "execution_count": null,
      "outputs": [
        {
          "output_type": "display_data",
          "data": {
            "image/png": "[encoded data removed]",
            "text/plain": [
              "<Figure size 432x432 with 1 Axes>"
            ]
          },
          "metadata": {
            "needs_background": "light"
          }
        }
      ]
    },
    {
      "cell_type": "code",
      "metadata": {
        "colab": {
          "base_uri": "https://localhost:8080/",
          "height": 374
        },
        "id": "Rvz9wqjd5afX",
        "outputId": "973c11d0-f73a-464a-d452-ed5799ddf3d3"
      },
      "source": [
        "samples = np.random.uniform(0,1,10000)\n",
        "fig,ax = plt.subplots(figsize=(6,6))\n",
        "ax.hist(samples,50,density=True);\n"
      ],
      "execution_count": null,
      "outputs": [
        {
          "output_type": "display_data",
          "data": {
            "image/png": "[encoded data removed]",
            "text/plain": [
              "<Figure size 432x432 with 1 Axes>"
            ]
          },
          "metadata": {
            "needs_background": "light"
          }
        }
      ]
    },
    {
      "cell_type": "markdown",
      "metadata": {
        "id": "qhXo7N09L-Gi"
      },
      "source": [
        "# The linear regression model with a single predictor\n",
        "\n"
      ]
    },
    {
      "cell_type": "markdown",
      "metadata": {
        "id": "48Zgpj4yYbs8"
      },
      "source": [
        "A model is an assumption about how the data is generated. The model we will work with for most of this class is the *linear regression model*.\n",
        "\n",
        "For a linear regression model, we will *assume* that the relationship between $x$ and $y$ is linear. It is never the case that the relationship is *exactly* linear, thus, we add some **noise**, denoted $\\epsilon_i$, to our model to obtain:\n",
        "\\begin{equation}\n",
        "y_i = a_1x_{1,i} + a_2x_{2,i} + \\cdots + b + \\epsilon_i\n",
        "\\end{equation}\n",
        "\n",
        "With only a single predictor, this becomes\n",
        "\\begin{equation}\n",
        "y_i = ax_i + b + \\epsilon_i\n",
        "\\end{equation}\n",
        "Importantly, $a$ and $b$ are the same for every $x$ and $y$ point, but $\\epsilon_i$ is different. We therefore need to decide how model this source of noise. It is common (but not always correct) to assume $\\epsilon$ are independent and normaly distributed random variables for each $x$, with mean $0$ and variance $\\sigma^2$. Sometimes we write this as \n",
        "\\begin{equation}\n",
        "\\epsilon \\sim N(0,\\sigma).\n",
        "\\end{equation} We will discuss this assumption in greater detial throughout the course. For now, think of it as saying \"for a given $x$ value the $y$ values are on average going to fall on a line $ax + b$, but with some variation around that."
      ]
    },
    {
      "cell_type": "markdown",
      "metadata": {
        "id": "RkH0B-yuwzZJ"
      },
      "source": [
        "## Generating data fron a linear regression model"
      ]
    },
    {
      "cell_type": "code",
      "metadata": {
        "id": "_GoqyVn0L36H",
        "colab": {
          "base_uri": "https://localhost:8080/"
        },
        "outputId": "8e5ccc5f-cdfd-4b54-f28c-b5eff5a21503"
      },
      "source": [
        "x = np.array([-0.1,0,0.2,0.2,0.25,0.31,0.4,0.45,0.46,0.47])\n",
        "\n",
        "# there are our parameters\n",
        "a = 1.0\n",
        "b = 2.0\n",
        "sigma = 0.2\n",
        "\n",
        "\n",
        "# this generates data from out model\n",
        "y = a*x + b + np.random.normal(0,sigma,len(x))\n",
        "y"
      ],
      "execution_count": null,
      "outputs": [
        {
          "output_type": "execute_result",
          "data": {
            "text/plain": [
              "array([1.90383596, 1.81270752, 2.38557379, 2.40959874, 2.15802958,\n",
              "       2.5883719 , 2.39044965, 2.31653878, 2.2748391 , 2.86292987])"
            ]
          },
          "metadata": {},
          "execution_count": 78
        }
      ]
    },
    {
      "cell_type": "code",
      "metadata": {
        "colab": {
          "base_uri": "https://localhost:8080/",
          "height": 363
        },
        "id": "9BWUhwc7UC5H",
        "outputId": "515eafd1-c2ca-47a0-c322-975086f3c078"
      },
      "source": [
        "# We can put this in a dataframe\n",
        "fake_data = pd.DataFrame({\"thing1\":x,\"thing2\":y})\n",
        "fake_data"
      ],
      "execution_count": null,
      "outputs": [
        {
          "output_type": "execute_result",
          "data": {
            "text/html": [
              "<div>\n",
              "<style scoped>\n",
              "    .dataframe tbody tr th:only-of-type {\n",
              "        vertical-align: middle;\n",
              "    }\n",
              "\n",
              "    .dataframe tbody tr th {\n",
              "        vertical-align: top;\n",
              "    }\n",
              "\n",
              "    .dataframe thead th {\n",
              "        text-align: right;\n",
              "    }\n",
              "</style>\n",
              "<table border=\"1\" class=\"dataframe\">\n",
              "  <thead>\n",
              "    <tr style=\"text-align: right;\">\n",
              "      <th></th>\n",
              "      <th>thing1</th>\n",
              "      <th>thing2</th>\n",
              "    </tr>\n",
              "  </thead>\n",
              "  <tbody>\n",
              "    <tr>\n",
              "      <th>0</th>\n",
              "      <td>-0.10</td>\n",
              "      <td>1.903836</td>\n",
              "    </tr>\n",
              "    <tr>\n",
              "      <th>1</th>\n",
              "      <td>0.00</td>\n",
              "      <td>1.812708</td>\n",
              "    </tr>\n",
              "    <tr>\n",
              "      <th>2</th>\n",
              "      <td>0.20</td>\n",
              "      <td>2.385574</td>\n",
              "    </tr>\n",
              "    <tr>\n",
              "      <th>3</th>\n",
              "      <td>0.20</td>\n",
              "      <td>2.409599</td>\n",
              "    </tr>\n",
              "    <tr>\n",
              "      <th>4</th>\n",
              "      <td>0.25</td>\n",
              "      <td>2.158030</td>\n",
              "    </tr>\n",
              "    <tr>\n",
              "      <th>5</th>\n",
              "      <td>0.31</td>\n",
              "      <td>2.588372</td>\n",
              "    </tr>\n",
              "    <tr>\n",
              "      <th>6</th>\n",
              "      <td>0.40</td>\n",
              "      <td>2.390450</td>\n",
              "    </tr>\n",
              "    <tr>\n",
              "      <th>7</th>\n",
              "      <td>0.45</td>\n",
              "      <td>2.316539</td>\n",
              "    </tr>\n",
              "    <tr>\n",
              "      <th>8</th>\n",
              "      <td>0.46</td>\n",
              "      <td>2.274839</td>\n",
              "    </tr>\n",
              "    <tr>\n",
              "      <th>9</th>\n",
              "      <td>0.47</td>\n",
              "      <td>2.862930</td>\n",
              "    </tr>\n",
              "  </tbody>\n",
              "</table>\n",
              "</div>"
            ],
            "text/plain": [
              "   thing1    thing2\n",
              "0   -0.10  1.903836\n",
              "1    0.00  1.812708\n",
              "2    0.20  2.385574\n",
              "3    0.20  2.409599\n",
              "4    0.25  2.158030\n",
              "5    0.31  2.588372\n",
              "6    0.40  2.390450\n",
              "7    0.45  2.316539\n",
              "8    0.46  2.274839\n",
              "9    0.47  2.862930"
            ]
          },
          "metadata": {},
          "execution_count": 79
        }
      ]
    },
    {
      "cell_type": "markdown",
      "metadata": {
        "id": "egzmFmsWMPVN"
      },
      "source": [
        "## Fitting"
      ]
    },
    {
      "cell_type": "code",
      "metadata": {
        "id": "xMM4PJkBPUv2"
      },
      "source": [
        "import statsmodels.api as sm"
      ],
      "execution_count": null,
      "outputs": []
    },
    {
      "cell_type": "code",
      "metadata": {
        "colab": {
          "base_uri": "https://localhost:8080/"
        },
        "id": "lAqElHP48RPU",
        "outputId": "f3b1d197-0b8e-4546-bf7b-53230d02d04c"
      },
      "source": [
        "help(sm.OLS)"
      ],
      "execution_count": null,
      "outputs": [
        {
          "output_type": "stream",
          "name": "stdout",
          "text": [
            "Help on class OLS in module statsmodels.regression.linear_model:\n",
            "\n",
            "class OLS(WLS)\n",
            " |  OLS(endog, exog=None, missing='none', hasconst=None, **kwargs)\n",
            " |  \n",
            " |  A simple ordinary least squares model.\n",
            " |  \n",
            " |  \n",
            " |  Parameters\n",
            " |  ----------\n",
            " |  endog : array-like\n",
            " |      1-d endogenous response variable. The dependent variable.\n",
            " |  exog : array-like\n",
            " |      A nobs x k array where `nobs` is the number of observations and `k`\n",
            " |      is the number of regressors. An intercept is not included by default\n",
            " |      and should be added by the user. See\n",
            " |      :func:`statsmodels.tools.add_constant`.\n",
            " |  missing : str\n",
            " |      Available options are 'none', 'drop', and 'raise'. If 'none', no nan\n",
            " |      checking is done. If 'drop', any observations with nans are dropped.\n",
            " |      If 'raise', an error is raised. Default is 'none.'\n",
            " |  hasconst : None or bool\n",
            " |      Indicates whether the RHS includes a user-supplied constant. If True,\n",
            " |      a constant is not checked for and k_constant is set to 1 and all\n",
            " |      result statistics are calculated as if a constant is present. If\n",
            " |      False, a constant is not checked for and k_constant is set to 0.\n",
            " |  \n",
            " |  \n",
            " |  Attributes\n",
            " |  ----------\n",
            " |  weights : scalar\n",
            " |      Has an attribute weights = array(1.0) due to inheritance from WLS.\n",
            " |  \n",
            " |  See Also\n",
            " |  --------\n",
            " |  GLS\n",
            " |  \n",
            " |  Examples\n",
            " |  --------\n",
            " |  >>> import numpy as np\n",
            " |  >>>\n",
            " |  >>> import statsmodels.api as sm\n",
            " |  >>>\n",
            " |  >>> Y = [1,3,4,5,2,3,4]\n",
            " |  >>> X = range(1,8)\n",
            " |  >>> X = sm.add_constant(X)\n",
            " |  >>>\n",
            " |  >>> model = sm.OLS(Y,X)\n",
            " |  >>> results = model.fit()\n",
            " |  >>> results.params\n",
            " |  array([ 2.14285714,  0.25      ])\n",
            " |  >>> results.tvalues\n",
            " |  array([ 1.87867287,  0.98019606])\n",
            " |  >>> print(results.t_test([1, 0]))\n",
            " |  <T test: effect=array([ 2.14285714]), sd=array([[ 1.14062282]]), t=array([[ 1.87867287]]), p=array([[ 0.05953974]]), df_denom=5>\n",
            " |  >>> print(results.f_test(np.identity(2)))\n",
            " |  <F test: F=array([[ 19.46078431]]), p=[[ 0.00437251]], df_denom=5, df_num=2>\n",
            " |  \n",
            " |  Notes\n",
            " |  -----\n",
            " |  No constant is added by the model unless you are using formulas.\n",
            " |  \n",
            " |  Method resolution order:\n",
            " |      OLS\n",
            " |      WLS\n",
            " |      RegressionModel\n",
            " |      statsmodels.base.model.LikelihoodModel\n",
            " |      statsmodels.base.model.Model\n",
            " |      builtins.object\n",
            " |  \n",
            " |  Methods defined here:\n",
            " |  \n",
            " |  __init__(self, endog, exog=None, missing='none', hasconst=None, **kwargs)\n",
            " |      Initialize self.  See help(type(self)) for accurate signature.\n",
            " |  \n",
            " |  fit_regularized(self, method='elastic_net', alpha=0.0, L1_wt=1.0, start_params=None, profile_scale=False, refit=False, **kwargs)\n",
            " |      Return a regularized fit to a linear regression model.\n",
            " |      \n",
            " |      Parameters\n",
            " |      ----------\n",
            " |      method : string\n",
            " |          'elastic_net' and 'sqrt_lasso' are currently implemented.\n",
            " |      alpha : scalar or array-like\n",
            " |          The penalty weight.  If a scalar, the same penalty weight\n",
            " |          applies to all variables in the model.  If a vector, it\n",
            " |          must have the same length as `params`, and contains a\n",
            " |          penalty weight for each coefficient.\n",
            " |      L1_wt: scalar\n",
            " |          The fraction of the penalty given to the L1 penalty term.\n",
            " |          Must be between 0 and 1 (inclusive).  If 0, the fit is a\n",
            " |          ridge fit, if 1 it is a lasso fit.\n",
            " |      start_params : array-like\n",
            " |          Starting values for ``params``.\n",
            " |      profile_scale : bool\n",
            " |          If True the penalized fit is computed using the profile\n",
            " |          (concentrated) log-likelihood for the Gaussian model.\n",
            " |          Otherwise the fit uses the residual sum of squares.\n",
            " |      refit : bool\n",
            " |          If True, the model is refit using only the variables that\n",
            " |          have non-zero coefficients in the regularized fit.  The\n",
            " |          refitted model is not regularized.\n",
            " |      distributed : bool\n",
            " |          If True, the model uses distributed methods for fitting,\n",
            " |          will raise an error if True and partitions is None.\n",
            " |      generator : function\n",
            " |          generator used to partition the model, allows for handling\n",
            " |          of out of memory/parallel computing.\n",
            " |      partitions : scalar\n",
            " |          The number of partitions desired for the distributed\n",
            " |          estimation.\n",
            " |      threshold : scalar or array-like\n",
            " |          The threshold below which coefficients are zeroed out,\n",
            " |          only used for distributed estimation\n",
            " |      \n",
            " |      Returns\n",
            " |      -------\n",
            " |      A RegularizedResults instance.\n",
            " |      \n",
            " |      Notes\n",
            " |      -----\n",
            " |      The elastic net uses a combination of L1 and L2 penalties.\n",
            " |      The implementation closely follows the glmnet package in R.\n",
            " |      \n",
            " |      The function that is minimized is:\n",
            " |      \n",
            " |      .. math::\n",
            " |      \n",
            " |          0.5*RSS/n + alpha*((1-L1\\_wt)*|params|_2^2/2 + L1\\_wt*|params|_1)\n",
            " |      \n",
            " |      where RSS is the usual regression sum of squares, n is the\n",
            " |      sample size, and :math:`|*|_1` and :math:`|*|_2` are the L1 and L2\n",
            " |      norms.\n",
            " |      \n",
            " |      For WLS and GLS, the RSS is calculated using the whitened endog and\n",
            " |      exog data.\n",
            " |      \n",
            " |      Post-estimation results are based on the same data used to\n",
            " |      select variables, hence may be subject to overfitting biases.\n",
            " |      \n",
            " |      The elastic_net method uses the following keyword arguments:\n",
            " |      \n",
            " |      maxiter : int\n",
            " |          Maximum number of iterations\n",
            " |      cnvrg_tol : float\n",
            " |          Convergence threshold for line searches\n",
            " |      zero_tol : float\n",
            " |          Coefficients below this threshold are treated as zero.\n",
            " |      \n",
            " |      The square root lasso approach is a variation of the Lasso\n",
            " |      that is largely self-tuning (the optimal tuning parameter\n",
            " |      does not depend on the standard deviation of the regression\n",
            " |      errors).  If the errors are Gaussian, the tuning parameter\n",
            " |      can be taken to be\n",
            " |      \n",
            " |      alpha = 1.1 * np.sqrt(n) * norm.ppf(1 - 0.05 / (2 * p))\n",
            " |      \n",
            " |      where n is the sample size and p is the number of predictors.\n",
            " |      \n",
            " |      The square root lasso uses the following keyword arguments:\n",
            " |      \n",
            " |      zero_tol : float\n",
            " |          Coefficients below this threshold are treated as zero.\n",
            " |      \n",
            " |      \n",
            " |      References\n",
            " |      ----------\n",
            " |      Friedman, Hastie, Tibshirani (2008).  Regularization paths for\n",
            " |      generalized linear models via coordinate descent.  Journal of\n",
            " |      Statistical Software 33(1), 1-22 Feb 2010.\n",
            " |      \n",
            " |      A Belloni, V Chernozhukov, L Wang (2011).  Square-root Lasso:\n",
            " |      pivotal recovery of sparse signals via conic programming.\n",
            " |      Biometrika 98(4), 791-806.\n",
            " |      https://arxiv.org/pdf/1009.5689.pdf\n",
            " |  \n",
            " |  hessian(self, params, scale=None)\n",
            " |      Evaluate the Hessian function at a given point.\n",
            " |      \n",
            " |      Parameters\n",
            " |      ----------\n",
            " |      params : array-like\n",
            " |          The parameter vector at which the Hessian is computed.\n",
            " |      scale : float or None\n",
            " |          If None, return the profile (concentrated) log likelihood\n",
            " |          (profiled over the scale parameter), else return the\n",
            " |          log-likelihood using the given scale value.\n",
            " |      \n",
            " |      Returns\n",
            " |      -------\n",
            " |      The Hessian matrix.\n",
            " |  \n",
            " |  hessian_factor(self, params, scale=None, observed=True)\n",
            " |      Weights for calculating Hessian\n",
            " |      \n",
            " |      Parameters\n",
            " |      ----------\n",
            " |      params : ndarray\n",
            " |          parameter at which Hessian is evaluated\n",
            " |      scale : None or float\n",
            " |          If scale is None, then the default scale will be calculated.\n",
            " |          Default scale is defined by `self.scaletype` and set in fit.\n",
            " |          If scale is not None, then it is used as a fixed scale.\n",
            " |      observed : bool\n",
            " |          If True, then the observed Hessian is returned. If false then the\n",
            " |          expected information matrix is returned.\n",
            " |      \n",
            " |      Returns\n",
            " |      -------\n",
            " |      hessian_factor : ndarray, 1d\n",
            " |          A 1d weight vector used in the calculation of the Hessian.\n",
            " |          The hessian is obtained by `(exog.T * hessian_factor).dot(exog)`\n",
            " |  \n",
            " |  loglike(self, params, scale=None)\n",
            " |      The likelihood function for the OLS model.\n",
            " |      \n",
            " |      Parameters\n",
            " |      ----------\n",
            " |      params : array-like\n",
            " |          The coefficients with which to estimate the log-likelihood.\n",
            " |      scale : float or None\n",
            " |          If None, return the profile (concentrated) log likelihood\n",
            " |          (profiled over the scale parameter), else return the\n",
            " |          log-likelihood using the given scale value.\n",
            " |      \n",
            " |      Returns\n",
            " |      -------\n",
            " |      The likelihood function evaluated at params.\n",
            " |  \n",
            " |  score(self, params, scale=None)\n",
            " |      Evaluate the score function at a given point.\n",
            " |      \n",
            " |      The score corresponds to the profile (concentrated)\n",
            " |      log-likelihood in which the scale parameter has been profiled\n",
            " |      out.\n",
            " |      \n",
            " |      Parameters\n",
            " |      ----------\n",
            " |      params : array-like\n",
            " |          The parameter vector at which the score function is\n",
            " |          computed.\n",
            " |      scale : float or None\n",
            " |          If None, return the profile (concentrated) log likelihood\n",
            " |          (profiled over the scale parameter), else return the\n",
            " |          log-likelihood using the given scale value.\n",
            " |      \n",
            " |      Returns\n",
            " |      -------\n",
            " |      The score vector.\n",
            " |  \n",
            " |  whiten(self, Y)\n",
            " |      OLS model whitener does nothing: returns Y.\n",
            " |  \n",
            " |  ----------------------------------------------------------------------\n",
            " |  Methods inherited from RegressionModel:\n",
            " |  \n",
            " |  fit(self, method='pinv', cov_type='nonrobust', cov_kwds=None, use_t=None, **kwargs)\n",
            " |      Full fit of the model.\n",
            " |      \n",
            " |      The results include an estimate of covariance matrix, (whitened)\n",
            " |      residuals and an estimate of scale.\n",
            " |      \n",
            " |      Parameters\n",
            " |      ----------\n",
            " |      method : str, optional\n",
            " |          Can be \"pinv\", \"qr\".  \"pinv\" uses the Moore-Penrose pseudoinverse\n",
            " |          to solve the least squares problem. \"qr\" uses the QR\n",
            " |          factorization.\n",
            " |      cov_type : str, optional\n",
            " |          See `regression.linear_model.RegressionResults` for a description\n",
            " |          of the available covariance estimators\n",
            " |      cov_kwds : list or None, optional\n",
            " |          See `linear_model.RegressionResults.get_robustcov_results` for a\n",
            " |          description required keywords for alternative covariance estimators\n",
            " |      use_t : bool, optional\n",
            " |          Flag indicating to use the Student's t distribution when computing\n",
            " |          p-values.  Default behavior depends on cov_type. See\n",
            " |          `linear_model.RegressionResults.get_robustcov_results` for\n",
            " |          implementation details.\n",
            " |      \n",
            " |      Returns\n",
            " |      -------\n",
            " |      A RegressionResults class instance.\n",
            " |      \n",
            " |      See Also\n",
            " |      --------\n",
            " |      regression.linear_model.RegressionResults\n",
            " |      regression.linear_model.RegressionResults.get_robustcov_results\n",
            " |      \n",
            " |      Notes\n",
            " |      -----\n",
            " |      The fit method uses the pseudoinverse of the design/exogenous variables\n",
            " |      to solve the least squares minimization.\n",
            " |  \n",
            " |  get_distribution(self, params, scale, exog=None, dist_class=None)\n",
            " |      Returns a random number generator for the predictive distribution.\n",
            " |      \n",
            " |      Parameters\n",
            " |      ----------\n",
            " |      params : array-like\n",
            " |          The model parameters (regression coefficients).\n",
            " |      scale : scalar\n",
            " |          The variance parameter.\n",
            " |      exog : array-like\n",
            " |          The predictor variable matrix.\n",
            " |      dist_class : class\n",
            " |          A random number generator class.  Must take 'loc' and 'scale'\n",
            " |          as arguments and return a random number generator implementing\n",
            " |          an ``rvs`` method for simulating random values. Defaults to Gaussian.\n",
            " |      \n",
            " |      Returns\n",
            " |      -------\n",
            " |      gen\n",
            " |          Frozen random number generator object with mean and variance\n",
            " |          determined by the fitted linear model.  Use the ``rvs`` method\n",
            " |          to generate random values.\n",
            " |      \n",
            " |      Notes\n",
            " |      -----\n",
            " |      Due to the behavior of ``scipy.stats.distributions objects``,\n",
            " |      the returned random number generator must be called with\n",
            " |      ``gen.rvs(n)`` where ``n`` is the number of observations in\n",
            " |      the data set used to fit the model.  If any other value is\n",
            " |      used for ``n``, misleading results will be produced.\n",
            " |  \n",
            " |  initialize(self)\n",
            " |      Initialize (possibly re-initialize) a Model instance. For\n",
            " |      instance, the design matrix of a linear model may change\n",
            " |      and some things must be recomputed.\n",
            " |  \n",
            " |  predict(self, params, exog=None)\n",
            " |      Return linear predicted values from a design matrix.\n",
            " |      \n",
            " |      Parameters\n",
            " |      ----------\n",
            " |      params : array-like\n",
            " |          Parameters of a linear model\n",
            " |      exog : array-like, optional.\n",
            " |          Design / exogenous data. Model exog is used if None.\n",
            " |      \n",
            " |      Returns\n",
            " |      -------\n",
            " |      An array of fitted values\n",
            " |      \n",
            " |      Notes\n",
            " |      -----\n",
            " |      If the model has not yet been fit, params is not optional.\n",
            " |  \n",
            " |  ----------------------------------------------------------------------\n",
            " |  Data descriptors inherited from RegressionModel:\n",
            " |  \n",
            " |  df_model\n",
            " |      The model degree of freedom, defined as the rank of the regressor\n",
            " |      matrix minus 1 if a constant is included.\n",
            " |  \n",
            " |  df_resid\n",
            " |      The residual degree of freedom, defined as the number of observations\n",
            " |      minus the rank of the regressor matrix.\n",
            " |  \n",
            " |  ----------------------------------------------------------------------\n",
            " |  Methods inherited from statsmodels.base.model.LikelihoodModel:\n",
            " |  \n",
            " |  information(self, params)\n",
            " |      Fisher information matrix of model\n",
            " |      \n",
            " |      Returns -Hessian of loglike evaluated at params.\n",
            " |  \n",
            " |  ----------------------------------------------------------------------\n",
            " |  Class methods inherited from statsmodels.base.model.Model:\n",
            " |  \n",
            " |  from_formula(formula, data, subset=None, drop_cols=None, *args, **kwargs) from builtins.type\n",
            " |      Create a Model from a formula and dataframe.\n",
            " |      \n",
            " |      Parameters\n",
            " |      ----------\n",
            " |      formula : str or generic Formula object\n",
            " |          The formula specifying the model\n",
            " |      data : array-like\n",
            " |          The data for the model. See Notes.\n",
            " |      subset : array-like\n",
            " |          An array-like object of booleans, integers, or index values that\n",
            " |          indicate the subset of df to use in the model. Assumes df is a\n",
            " |          `pandas.DataFrame`\n",
            " |      drop_cols : array-like\n",
            " |          Columns to drop from the design matrix.  Cannot be used to\n",
            " |          drop terms involving categoricals.\n",
            " |      args : extra arguments\n",
            " |          These are passed to the model\n",
            " |      kwargs : extra keyword arguments\n",
            " |          These are passed to the model with one exception. The\n",
            " |          ``eval_env`` keyword is passed to patsy. It can be either a\n",
            " |          :class:`patsy:patsy.EvalEnvironment` object or an integer\n",
            " |          indicating the depth of the namespace to use. For example, the\n",
            " |          default ``eval_env=0`` uses the calling namespace. If you wish\n",
            " |          to use a \"clean\" environment set ``eval_env=-1``.\n",
            " |      \n",
            " |      Returns\n",
            " |      -------\n",
            " |      model : Model instance\n",
            " |      \n",
            " |      Notes\n",
            " |      -----\n",
            " |      data must define __getitem__ with the keys in the formula terms\n",
            " |      args and kwargs are passed on to the model instantiation. E.g.,\n",
            " |      a numpy structured or rec array, a dictionary, or a pandas DataFrame.\n",
            " |  \n",
            " |  ----------------------------------------------------------------------\n",
            " |  Data descriptors inherited from statsmodels.base.model.Model:\n",
            " |  \n",
            " |  __dict__\n",
            " |      dictionary for instance variables (if defined)\n",
            " |  \n",
            " |  __weakref__\n",
            " |      list of weak references to the object (if defined)\n",
            " |  \n",
            " |  endog_names\n",
            " |      Names of endogenous variables\n",
            " |  \n",
            " |  exog_names\n",
            " |      Names of exogenous variables\n",
            "\n"
          ]
        }
      ]
    },
    {
      "cell_type": "markdown",
      "metadata": {
        "id": "hgcH39G8QJC7"
      },
      "source": [
        ""
      ]
    },
    {
      "cell_type": "code",
      "metadata": {
        "colab": {
          "base_uri": "https://localhost:8080/"
        },
        "id": "8ohOEjwwD7-h",
        "outputId": "802300b4-0188-437b-a229-961bf841601f"
      },
      "source": [
        "X = sm.add_constant(x)\n",
        "model = sm.OLS(y,X)\n",
        "results = model.fit()\n",
        "print(results.summary())"
      ],
      "execution_count": null,
      "outputs": [
        {
          "output_type": "stream",
          "name": "stdout",
          "text": [
            "                            OLS Regression Results                            \n",
            "==============================================================================\n",
            "Dep. Variable:                      y   R-squared:                       0.554\n",
            "Model:                            OLS   Adj. R-squared:                  0.498\n",
            "Method:                 Least Squares   F-statistic:                     9.928\n",
            "Date:                Tue, 14 Sep 2021   Prob (F-statistic):             0.0136\n",
            "Time:                        15:35:45   Log-Likelihood:                 2.2181\n",
            "No. Observations:                  10   AIC:                           -0.4362\n",
            "Df Residuals:                       8   BIC:                            0.1690\n",
            "Df Model:                           1                                         \n",
            "Covariance Type:            nonrobust                                         \n",
            "==============================================================================\n",
            "                 coef    std err          t      P>|t|      [0.025      0.975]\n",
            "------------------------------------------------------------------------------\n",
            "const          2.0041      0.119     16.854      0.000       1.730       2.278\n",
            "x1             1.1598      0.368      3.151      0.014       0.311       2.009\n",
            "==============================================================================\n",
            "Omnibus:                        2.359   Durbin-Watson:                   2.208\n",
            "Prob(Omnibus):                  0.307   Jarque-Bera (JB):                0.918\n",
            "Skew:                           0.185   Prob(JB):                        0.632\n",
            "Kurtosis:                       1.563   Cond. No.                         5.76\n",
            "==============================================================================\n",
            "\n",
            "Warnings:\n",
            "[1] Standard Errors assume that the covariance matrix of the errors is correctly specified.\n"
          ]
        },
        {
          "output_type": "stream",
          "name": "stderr",
          "text": [
            "/usr/local/lib/python3.7/dist-packages/scipy/stats/stats.py:1535: UserWarning: kurtosistest only valid for n>=20 ... continuing anyway, n=10\n",
            "  \"anyway, n=%i\" % int(n))\n"
          ]
        }
      ]
    },
    {
      "cell_type": "code",
      "metadata": {
        "id": "2R32xZ75GIu5"
      },
      "source": [
        "# slope and intercept\n",
        "b_fit,a_fit = results.params\n",
        "\n",
        "# standard error\n",
        "sigma_fit = np.sqrt(results.mse_resid)"
      ],
      "execution_count": null,
      "outputs": []
    },
    {
      "cell_type": "code",
      "metadata": {
        "colab": {
          "base_uri": "https://localhost:8080/"
        },
        "id": "NDiekmsE9t9c",
        "outputId": "3714af26-cf5c-4cba-e139-424a525c4eed"
      },
      "source": [
        "x*a_fit + b_fit"
      ],
      "execution_count": null,
      "outputs": [
        {
          "output_type": "execute_result",
          "data": {
            "text/plain": [
              "array([1.88813406, 2.00411028, 2.23606271, 2.23606271, 2.29405082,\n",
              "       2.36363655, 2.46801514, 2.52600325, 2.53760087, 2.5491985 ])"
            ]
          },
          "metadata": {},
          "execution_count": 88
        }
      ]
    },
    {
      "cell_type": "code",
      "metadata": {
        "colab": {
          "base_uri": "https://localhost:8080/",
          "height": 337
        },
        "id": "WK4DLIT5-tc-",
        "outputId": "89f2ad74-2825-49c8-ca6f-567176108220"
      },
      "source": [
        "fig,ax = plt.subplots(figsize=(5,5))\n",
        "ax.plot(x,y,\"o\",label=\"data\")\n",
        "ax.plot(x,x*a_fit + b_fit,\"-\",label=\"fit\") \n",
        "ax.plot(x,x*a+ b,\"--\",label=\"true relation\")\n",
        "ax.legend()"
      ],
      "execution_count": null,
      "outputs": [
        {
          "output_type": "execute_result",
          "data": {
            "text/plain": [
              "<matplotlib.legend.Legend at 0x7f2164840d50>"
            ]
          },
          "metadata": {},
          "execution_count": 90
        },
        {
          "output_type": "display_data",
          "data": {
            "image/png": "[encoded data removed]",
            "text/plain": [
              "<Figure size 360x360 with 1 Axes>"
            ]
          },
          "metadata": {
            "needs_background": "light"
          }
        }
      ]
    },
    {
      "cell_type": "markdown",
      "metadata": {
        "id": "T_m_9FcdTmPW"
      },
      "source": [
        "## Making predictions"
      ]
    },
    {
      "cell_type": "code",
      "metadata": {
        "id": "uEa-v91GTipv",
        "colab": {
          "base_uri": "https://localhost:8080/",
          "height": 351
        },
        "outputId": "61fbfee1-cb23-4f7b-b758-572a41e984ef"
      },
      "source": [
        "# make predictions for average values and new data points\n",
        "x_pred = np.linspace(0.5,1,10)\n",
        "y_pred = x_pred*a_fit + b_fit + np.random.normal(0,sigma_fit,len(x_pred))\n",
        "fig,ax = plt.subplots(figsize=(5,5))\n",
        "ax.plot(x,y,\"o\",label=\"data\")\n",
        "ax.plot(x_pred,y_pred,\"+\",label=\"predictions\")\n",
        "ax.set_xlabel(\"x\")\n",
        "ax.legend()"
      ],
      "execution_count": null,
      "outputs": [
        {
          "output_type": "execute_result",
          "data": {
            "text/plain": [
              "<matplotlib.legend.Legend at 0x7f216502d6d0>"
            ]
          },
          "metadata": {},
          "execution_count": 92
        },
        {
          "output_type": "display_data",
          "data": {
            "image/png": "[encoded data removed]",
            "text/plain": [
              "<Figure size 360x360 with 1 Axes>"
            ]
          },
          "metadata": {
            "needs_background": "light"
          }
        }
      ]
    },
    {
      "cell_type": "markdown",
      "metadata": {
        "id": "gpxIHoNXAB0z"
      },
      "source": [
        "## Example: predicting elections"
      ]
    },
    {
      "cell_type": "markdown",
      "metadata": {
        "id": "oWASv0Mg68PI"
      },
      "source": [
        "Using the linear regression model, how would we determine: what is the chance that the incumbent wins an election given the the economic growth during their term is $5$? "
      ]
    },
    {
      "cell_type": "code",
      "metadata": {
        "colab": {
          "base_uri": "https://localhost:8080/"
        },
        "id": "XyEXD_Mo_-rb",
        "outputId": "deec8981-f292-452f-fec7-52b6323c0df8"
      },
      "source": [
        "x,y = data.growth.values,data.vote.values\n",
        "\n",
        "\n",
        "model = sm.OLS(y,sm.add_constant(x))\n",
        "results = model.fit()\n",
        "print(results.summary())"
      ],
      "execution_count": null,
      "outputs": [
        {
          "output_type": "stream",
          "name": "stdout",
          "text": [
            "                            OLS Regression Results                            \n",
            "==============================================================================\n",
            "Dep. Variable:                      y   R-squared:                       0.580\n",
            "Model:                            OLS   Adj. R-squared:                  0.550\n",
            "Method:                 Least Squares   F-statistic:                     19.32\n",
            "Date:                Tue, 14 Sep 2021   Prob (F-statistic):           0.000610\n",
            "Time:                        15:54:59   Log-Likelihood:                -42.839\n",
            "No. Observations:                  16   AIC:                             89.68\n",
            "Df Residuals:                      14   BIC:                             91.22\n",
            "Df Model:                           1                                         \n",
            "Covariance Type:            nonrobust                                         \n",
            "==============================================================================\n",
            "                 coef    std err          t      P>|t|      [0.025      0.975]\n",
            "------------------------------------------------------------------------------\n",
            "const         46.2476      1.622     28.514      0.000      42.769      49.726\n",
            "x1             3.0605      0.696      4.396      0.001       1.567       4.554\n",
            "==============================================================================\n",
            "Omnibus:                        5.392   Durbin-Watson:                   2.379\n",
            "Prob(Omnibus):                  0.067   Jarque-Bera (JB):                2.828\n",
            "Skew:                          -0.961   Prob(JB):                        0.243\n",
            "Kurtosis:                       3.738   Cond. No.                         4.54\n",
            "==============================================================================\n",
            "\n",
            "Warnings:\n",
            "[1] Standard Errors assume that the covariance matrix of the errors is correctly specified.\n"
          ]
        },
        {
          "output_type": "stream",
          "name": "stderr",
          "text": [
            "/usr/local/lib/python3.7/dist-packages/scipy/stats/stats.py:1535: UserWarning: kurtosistest only valid for n>=20 ... continuing anyway, n=16\n",
            "  \"anyway, n=%i\" % int(n))\n"
          ]
        }
      ]
    },
    {
      "cell_type": "code",
      "metadata": {
        "id": "Lf5ObShbBNkg"
      },
      "source": [
        "b_fit,a_fit = results.params\n",
        "sigma_fit = np.sqrt(results.mse_resid)"
      ],
      "execution_count": null,
      "outputs": []
    },
    {
      "cell_type": "code",
      "metadata": {
        "id": "rb85fNOU7T_t",
        "colab": {
          "base_uri": "https://localhost:8080/"
        },
        "outputId": "09d05b17-5f27-49c1-ee0c-438da4454e7e"
      },
      "source": [
        "sim_vote =  np.random.normal(5*a_fit + b_fit,sigma_fit,1000000)\n",
        "sim_vote\n"
      ],
      "execution_count": null,
      "outputs": [
        {
          "output_type": "execute_result",
          "data": {
            "text/plain": [
              "array([58.95012085, 50.86083729, 63.53202143, ..., 66.33079226,\n",
              "       63.08740059, 61.74273   ])"
            ]
          },
          "metadata": {},
          "execution_count": 100
        }
      ]
    },
    {
      "cell_type": "code",
      "metadata": {
        "colab": {
          "base_uri": "https://localhost:8080/"
        },
        "id": "dbo4Y2yyBU1T",
        "outputId": "6346e7d7-7b1c-4487-8c2b-9239d76820de"
      },
      "source": [
        "len(sim_elections[sim_elections>50])/len(sim_elections)"
      ],
      "execution_count": null,
      "outputs": [
        {
          "output_type": "execute_result",
          "data": {
            "text/plain": [
              "0.998954"
            ]
          },
          "metadata": {},
          "execution_count": 101
        }
      ]
    },
    {
      "cell_type": "markdown",
      "metadata": {
        "id": "QijGqaniRiIp"
      },
      "source": [
        "## How does OLS work? "
      ]
    },
    {
      "cell_type": "markdown",
      "metadata": {
        "id": "E8JnwtjeRkv8"
      },
      "source": [
        "The OLS function in statsmodels finds the \"best\" fit line for the data, but what does \"best\" mean? In-fact, there are many ways to draw a line through the data and which is best depends on the context (as we will see). \n",
        "\n",
        "OLS does least squares, the most commen technique for drawing a line through data. \n",
        "\n",
        "First, some notation:\n",
        "\n",
        "*   We often use $\\hat{}$ to distinguish fitted coefficents from the real ones, e.g. $\\hat{a}$ is out fit of $a$. \n",
        "*   We define the residuals as $r_i = y_i - (\\hat{a} + \\hat{b}x_i)$. This is different from $\\epsilon$, can you see why?\n",
        "* We use $\\bar{}$ to represent a sample average, e.g. $\\bar{y} = \\frac{1}{n}\\sum_i y_i$. \n",
        "\n",
        "What OLDs does if find the values of $\\hat{a}$ and $\\hat{b}$ which make $\\sum_ir_i^2$ smallest. \n",
        "\n",
        "What about the $\\hat{\\sigma}^2$? To find this, remember that to find the standard deviation of a set of numbers $y_i$, we use\n",
        "\\begin{equation}\n",
        "{\\rm std} = \\sqrt{\\frac{1}{n-2}\\sum_i y_i^2}.\n",
        "\\end{equation}\n",
        "To get $\\hat{\\sigma}$, we don't exactly want the standard deviation, we want to know how much variation there is once you subtract the fitted line, this is\n",
        "\\begin{equation}\n",
        "\\hat{\\sigma} = \\sqrt{\\frac{1}{n-2}\\sum_i r_i^2}\n",
        "\\end{equation}\n",
        "\n"
      ]
    },
    {
      "cell_type": "markdown",
      "metadata": {
        "id": "NZY2WwgnMWnC"
      },
      "source": [
        "## $p$-values"
      ]
    },
    {
      "cell_type": "markdown",
      "metadata": {
        "id": "slhN7LUc8rVE"
      },
      "source": [
        "$p$-values help us answer the question: is a pattern we are seeing in the data real? \n",
        "\n",
        "There are many ways to define a $p$-value for the coefficients in a regression, but roughly speaking, they all represent the *probability to obtain a coefficient at least as large or small the the fitted coefficient if the the true coefficient was zero.*\n",
        "\n",
        "\n",
        "Or is it just random chance? To better understand what $p$-values represents, let's do a numerical experiment."
      ]
    },
    {
      "cell_type": "code",
      "metadata": {
        "colab": {
          "base_uri": "https://localhost:8080/"
        },
        "id": "BEdgLCXUEtYC",
        "outputId": "d8e7ff02-003b-4fb9-d6e2-c1c156251818"
      },
      "source": [
        "x = np.array([0,0.5,2,6,7])\n",
        "y = 0.2*x + 0.5 + np.random.normal(0,0.5,len(x))\n",
        "X = sm.add_constant(x)\n",
        "model = sm.OLS(y,X)\n",
        "results = model.fit()\n",
        "print(results.summary())\n",
        "t_state = results.params[1]/results.bse[1]\n",
        "t_state"
      ],
      "execution_count": null,
      "outputs": [
        {
          "output_type": "stream",
          "name": "stdout",
          "text": [
            "                            OLS Regression Results                            \n",
            "==============================================================================\n",
            "Dep. Variable:                      y   R-squared:                       0.551\n",
            "Model:                            OLS   Adj. R-squared:                  0.401\n",
            "Method:                 Least Squares   F-statistic:                     3.675\n",
            "Date:                Mon, 13 Sep 2021   Prob (F-statistic):              0.151\n",
            "Time:                        21:02:26   Log-Likelihood:                -1.0408\n",
            "No. Observations:                   5   AIC:                             6.082\n",
            "Df Residuals:                       3   BIC:                             5.300\n",
            "Df Model:                           1                                         \n",
            "Covariance Type:            nonrobust                                         \n",
            "==============================================================================\n",
            "                 coef    std err          t      P>|t|      [0.025      0.975]\n",
            "------------------------------------------------------------------------------\n",
            "const          0.7098      0.253      2.803      0.068      -0.096       1.516\n",
            "x1             0.1149      0.060      1.917      0.151      -0.076       0.306\n",
            "==============================================================================\n",
            "Omnibus:                          nan   Durbin-Watson:                   1.779\n",
            "Prob(Omnibus):                    nan   Jarque-Bera (JB):                0.625\n",
            "Skew:                          -0.360   Prob(JB):                        0.731\n",
            "Kurtosis:                       1.425   Cond. No.                         6.41\n",
            "==============================================================================\n",
            "\n",
            "Warnings:\n",
            "[1] Standard Errors assume that the covariance matrix of the errors is correctly specified.\n"
          ]
        },
        {
          "output_type": "stream",
          "name": "stderr",
          "text": [
            "/usr/local/lib/python3.7/dist-packages/statsmodels/stats/stattools.py:71: ValueWarning: omni_normtest is not valid with less than 8 observations; 5 samples were given.\n",
            "  \"samples were given.\" % int(n), ValueWarning)\n"
          ]
        },
        {
          "output_type": "execute_result",
          "data": {
            "text/plain": [
              "1.9170447964545778"
            ]
          },
          "metadata": {},
          "execution_count": 95
        }
      ]
    },
    {
      "cell_type": "code",
      "metadata": {
        "colab": {
          "base_uri": "https://localhost:8080/",
          "height": 299
        },
        "id": "uiAsPRJgHhmL",
        "outputId": "86495b67-19b1-401a-b8c5-6fcc21902555"
      },
      "source": [
        "slopes = []\n",
        "for s in range(40000):\n",
        "  x = np.array([0,0.5,2,6,7])\n",
        "  y = 0.5 + np.random.normal(0,0.5,len(x))\n",
        "  X = sm.add_constant(x)\n",
        "  model = sm.OLS(y,X)\n",
        "  results = model.fit()\n",
        "  slopes.append((results.params[1]/results.bse[1]))\n",
        "slopes = np.array(slopes)\n",
        "\n",
        "fig,ax = plt.subplots(figsize=(5,4))\n",
        "ax.hist((slopes - np.mean(slopes))/np.std(slopes),bins=50,density=True);\n",
        "\n",
        "ax.set_xlabel(\"slopes\")\n"
      ],
      "execution_count": null,
      "outputs": [
        {
          "output_type": "execute_result",
          "data": {
            "text/plain": [
              "Text(0.5, 0, 'slopes')"
            ]
          },
          "metadata": {},
          "execution_count": 39
        },
        {
          "output_type": "display_data",
          "data": {
            "image/png": "[encoded data removed]",
            "text/plain": [
              "<Figure size 360x288 with 1 Axes>"
            ]
          },
          "metadata": {
            "needs_background": "light"
          }
        }
      ]
    },
    {
      "cell_type": "code",
      "metadata": {
        "colab": {
          "base_uri": "https://localhost:8080/"
        },
        "id": "8NjHzBJBIcwz",
        "outputId": "6e213f37-b4e3-45f4-c3c6-ee42895286d3"
      },
      "source": [
        "len(slopes[np.abs(slopes)>t_state])/len(slopes)"
      ],
      "execution_count": null,
      "outputs": [
        {
          "output_type": "execute_result",
          "data": {
            "text/plain": [
              "0.0047"
            ]
          },
          "metadata": {},
          "execution_count": 63
        }
      ]
    },
    {
      "cell_type": "code",
      "metadata": {
        "colab": {
          "base_uri": "https://localhost:8080/"
        },
        "id": "EM8o0N9ENZKI",
        "outputId": "bc467fb0-a59d-42f4-bfcb-9277dbf9286e"
      },
      "source": [
        "np.random.standard_t(10)"
      ],
      "execution_count": null,
      "outputs": [
        {
          "output_type": "execute_result",
          "data": {
            "text/plain": [
              "0.8877734779803784"
            ]
          },
          "metadata": {},
          "execution_count": 54
        }
      ]
    },
    {
      "cell_type": "markdown",
      "metadata": {
        "id": "msC_2Wvu5ACN"
      },
      "source": [
        "## $R^2$"
      ]
    },
    {
      "cell_type": "markdown",
      "metadata": {
        "id": "nDM29Pes8_7V"
      },
      "source": [
        "The $R^2$ value helps us answer the question: how much of the variation in the data is explained by the regression model? "
      ]
    },
    {
      "cell_type": "code",
      "metadata": {
        "colab": {
          "base_uri": "https://localhost:8080/"
        },
        "id": "zL2HGBm2475t",
        "outputId": "f0fb5e48-555f-4db7-f56f-f403a2bc6910"
      },
      "source": [
        "x = np.random.normal(0,1,10000)\n",
        "y = 0.1*x + 0.5 + np.random.normal(0,0.5,len(x))\n",
        "X = sm.add_constant(x)\n",
        "model = sm.OLS(y,X)\n",
        "results = model.fit()\n",
        "print(results.summary())\n"
      ],
      "execution_count": null,
      "outputs": [
        {
          "output_type": "stream",
          "name": "stdout",
          "text": [
            "                            OLS Regression Results                            \n",
            "==============================================================================\n",
            "Dep. Variable:                      y   R-squared:                       0.047\n",
            "Model:                            OLS   Adj. R-squared:                  0.047\n",
            "Method:                 Least Squares   F-statistic:                     489.7\n",
            "Date:                Mon, 13 Sep 2021   Prob (F-statistic):          5.68e-106\n",
            "Time:                        16:49:58   Log-Likelihood:                -7247.0\n",
            "No. Observations:               10000   AIC:                         1.450e+04\n",
            "Df Residuals:                    9998   BIC:                         1.451e+04\n",
            "Df Model:                           1                                         \n",
            "Covariance Type:            nonrobust                                         \n",
            "==============================================================================\n",
            "                 coef    std err          t      P>|t|      [0.025      0.975]\n",
            "------------------------------------------------------------------------------\n",
            "const          0.4937      0.005     98.844      0.000       0.484       0.504\n",
            "x1             0.1106      0.005     22.129      0.000       0.101       0.120\n",
            "==============================================================================\n",
            "Omnibus:                        0.013   Durbin-Watson:                   1.993\n",
            "Prob(Omnibus):                  0.994   Jarque-Bera (JB):                0.022\n",
            "Skew:                           0.000   Prob(JB):                        0.989\n",
            "Kurtosis:                       2.993   Cond. No.                         1.01\n",
            "==============================================================================\n",
            "\n",
            "Warnings:\n",
            "[1] Standard Errors assume that the covariance matrix of the errors is correctly specified.\n"
          ]
        }
      ]
    },
    {
      "cell_type": "code",
      "metadata": {
        "id": "WxvJtxr4WlDQ",
        "colab": {
          "base_uri": "https://localhost:8080/",
          "height": 282
        },
        "outputId": "5024f190-0a0f-456b-b62e-4853644b41e4"
      },
      "source": [
        "fig, ax =plt.subplots(figsize=(5,4))\n",
        "ax.plot(x,y,\"o\")"
      ],
      "execution_count": null,
      "outputs": [
        {
          "output_type": "execute_result",
          "data": {
            "text/plain": [
              "[<matplotlib.lines.Line2D at 0x7f5932d61bd0>]"
            ]
          },
          "metadata": {},
          "execution_count": 17
        },
        {
          "output_type": "display_data",
          "data": {
            "image/png": "[encoded data removed]",
            "text/plain": [
              "<Figure size 360x288 with 1 Axes>"
            ]
          },
          "metadata": {
            "needs_background": "light"
          }
        }
      ]
    },
    {
      "cell_type": "code",
      "metadata": {
        "id": "1LW9qi3xEhS0"
      },
      "source": [
        ""
      ],
      "execution_count": null,
      "outputs": []
    }
  ]
}